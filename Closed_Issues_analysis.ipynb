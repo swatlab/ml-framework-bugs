{
 "cells": [
  {
   "cell_type": "code",
   "execution_count": null,
   "metadata": {},
   "outputs": [],
   "source": [
    "import pandas as pd\n",
    "from pathlib import Path"
   ]
  },
  {
   "cell_type": "code",
   "execution_count": null,
   "metadata": {},
   "outputs": [],
   "source": [
    "closed_issues_path = Path('data/closed_issues')\n",
    "print(closed_issues_path)\n"
   ]
  },
  {
   "cell_type": "code",
   "execution_count": null,
   "metadata": {},
   "outputs": [],
   "source": [
    "CLOSED_ISSUES_DIR = Path('data/closed_issues/')\n",
    "dfs = []\n",
    "for csvf in Path.glob(CLOSED_ISSUES_DIR, pattern='*.csv'):\n",
    "    _df = pd.read_csv(csvf)\n",
    "    _df['framework'] = csvf.stem.split('_issues')[0]\n",
    "    dfs.append(_df)\n",
    "df = pd.concat(dfs,axis=0)    "
   ]
  },
  {
   "cell_type": "code",
   "execution_count": null,
   "metadata": {},
   "outputs": [],
   "source": [
    "df.columns"
   ]
  },
  {
   "cell_type": "code",
   "execution_count": null,
   "metadata": {},
   "outputs": [],
   "source": [
    "ml_df = df.set_index(['framework', 'id'])"
   ]
  },
  {
   "cell_type": "code",
   "execution_count": null,
   "metadata": {},
   "outputs": [],
   "source": [
    "(ml_df['comments'] > 0).sum()"
   ]
  },
  {
   "cell_type": "code",
   "execution_count": null,
   "metadata": {},
   "outputs": [],
   "source": [
    "ml_df.shape"
   ]
  },
  {
   "cell_type": "code",
   "execution_count": null,
   "metadata": {},
   "outputs": [],
   "source": []
  },
  {
   "cell_type": "code",
   "execution_count": null,
   "metadata": {},
   "outputs": [],
   "source": [
    "(ml_df['comments'] > 0).sum()"
   ]
  },
  {
   "cell_type": "code",
   "execution_count": null,
   "metadata": {},
   "outputs": [],
   "source": [
    "import math\n",
    "(ml_df['comments'] / 100).apply(lambda x: math.ceil(x)).sum()"
   ]
  },
  {
   "cell_type": "code",
   "execution_count": null,
   "metadata": {},
   "outputs": [],
   "source": [
    "SAVE_DF = False\n",
    "if SAVE_DF:\n",
    "    ml_df.to_csv('data/closed_issues.csv') # DataFrame with all frameworks\n",
    "\n",
    "    meta_data_df = ml_df.drop('body', axis=1)\n",
    "    meta_data_df.to_csv('data/issues_feature.csv')\n",
    "    \n",
    "    body_df = ml_df[['body']]\n",
    "    body_df.to_csv('data/issues_text.csv')\n",
    "    \n",
    "    ml_df[['comments','comments_url']].to_csv('data/comments_url.csv')"
   ]
  },
  {
   "cell_type": "code",
   "execution_count": null,
   "metadata": {},
   "outputs": [],
   "source": [
    "print(ml_df[['comments','comments_url']].sort_values('comments', ascending=False).iloc[0].comments_url)"
   ]
  },
  {
   "cell_type": "code",
   "execution_count": null,
   "metadata": {},
   "outputs": [],
   "source": [
    "ml_df.so"
   ]
  },
  {
   "cell_type": "code",
   "execution_count": null,
   "metadata": {},
   "outputs": [],
   "source": [
    "print(ml_df.loc[ml_df['body'].isna()]['comments_url'].iloc[555])"
   ]
  }
 ],
 "metadata": {
  "kernelspec": {
   "display_name": "ML_Framework_Bugs",
   "language": "python",
   "name": "ml_framework_bugs"
  },
  "language_info": {
   "codemirror_mode": {
    "name": "ipython",
    "version": 3
   },
   "file_extension": ".py",
   "mimetype": "text/x-python",
   "name": "python",
   "nbconvert_exporter": "python",
   "pygments_lexer": "ipython3",
   "version": "3.6.8"
  }
 },
 "nbformat": 4,
 "nbformat_minor": 2
}
